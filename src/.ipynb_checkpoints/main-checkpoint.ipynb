{
 "cells": [
  {
   "cell_type": "code",
   "execution_count": 6,
   "id": "45ebc23e-a6e8-4d72-8690-8239c5a1bbab",
   "metadata": {},
   "outputs": [
    {
     "data": {
      "application/vnd.jupyter.widget-view+json": {
       "model_id": "",
       "version_major": 2,
       "version_minor": 0
      },
      "text/plain": [
       "Text(value='', description='Name:')"
      ]
     },
     "metadata": {},
     "output_type": "display_data"
    },
    {
     "data": {
      "application/vnd.jupyter.widget-view+json": {
       "model_id": "",
       "version_major": 2,
       "version_minor": 0
      },
      "text/plain": [
       "Text(value='', description='Brand:')"
      ]
     },
     "metadata": {},
     "output_type": "display_data"
    },
    {
     "data": {
      "application/vnd.jupyter.widget-view+json": {
       "model_id": "",
       "version_major": 2,
       "version_minor": 0
      },
      "text/plain": [
       "Dropdown(description='Scent:', options=('Floral', 'Fruity', 'Citrus', 'Woody', 'Oriental', 'Fresh', 'Spicy', '…"
      ]
     },
     "metadata": {},
     "output_type": "display_data"
    },
    {
     "data": {
      "application/vnd.jupyter.widget-view+json": {
       "model_id": "a6781c5e786a40b3bf6e0fe746fb9bc4",
       "version_major": 2,
       "version_minor": 0
      },
      "text/plain": [
       "Text(value='', description='Other Scent:', disabled=True)"
      ]
     },
     "metadata": {},
     "output_type": "display_data"
    },
    {
     "data": {
      "application/vnd.jupyter.widget-view+json": {
       "model_id": "",
       "version_major": 2,
       "version_minor": 0
      },
      "text/plain": [
       "FloatText(value=0.0, description='Price:')"
      ]
     },
     "metadata": {},
     "output_type": "display_data"
    },
    {
     "data": {
      "application/vnd.jupyter.widget-view+json": {
       "model_id": "",
       "version_major": 2,
       "version_minor": 0
      },
      "text/plain": [
       "Button(description='Add Perfume', style=ButtonStyle())"
      ]
     },
     "metadata": {},
     "output_type": "display_data"
    },
    {
     "data": {
      "application/vnd.jupyter.widget-view+json": {
       "model_id": "",
       "version_major": 2,
       "version_minor": 0
      },
      "text/plain": [
       "Button(description='Edit Perfume', style=ButtonStyle())"
      ]
     },
     "metadata": {},
     "output_type": "display_data"
    },
    {
     "data": {
      "application/vnd.jupyter.widget-view+json": {
       "model_id": "",
       "version_major": 2,
       "version_minor": 0
      },
      "text/plain": [
       "Button(description='Delete Perfume', style=ButtonStyle())"
      ]
     },
     "metadata": {},
     "output_type": "display_data"
    },
    {
     "data": {
      "application/vnd.jupyter.widget-view+json": {
       "model_id": "",
       "version_major": 2,
       "version_minor": 0
      },
      "text/plain": [
       "Button(description='View Perfumes', style=ButtonStyle())"
      ]
     },
     "metadata": {},
     "output_type": "display_data"
    },
    {
     "data": {
      "application/vnd.jupyter.widget-view+json": {
       "model_id": "",
       "version_major": 2,
       "version_minor": 0
      },
      "text/plain": [
       "IntText(value=0, description='Edit Index:')"
      ]
     },
     "metadata": {},
     "output_type": "display_data"
    },
    {
     "data": {
      "application/vnd.jupyter.widget-view+json": {
       "model_id": "",
       "version_major": 2,
       "version_minor": 0
      },
      "text/plain": [
       "IntText(value=0, description='Delete Index:')"
      ]
     },
     "metadata": {},
     "output_type": "display_data"
    },
    {
     "data": {
      "application/vnd.jupyter.widget-view+json": {
       "model_id": "",
       "version_major": 2,
       "version_minor": 0
      },
      "text/plain": [
       "Button(description='Exit', style=ButtonStyle())"
      ]
     },
     "metadata": {},
     "output_type": "display_data"
    },
    {
     "data": {
      "application/vnd.jupyter.widget-view+json": {
       "model_id": "",
       "version_major": 2,
       "version_minor": 0
      },
      "text/plain": [
       "Button(description='Visualise Brands', style=ButtonStyle())"
      ]
     },
     "metadata": {},
     "output_type": "display_data"
    },
    {
     "data": {
      "application/vnd.jupyter.widget-view+json": {
       "model_id": "",
       "version_major": 2,
       "version_minor": 0
      },
      "text/plain": [
       "Button(description='Visualise Scents', style=ButtonStyle())"
      ]
     },
     "metadata": {},
     "output_type": "display_data"
    },
    {
     "data": {
      "application/vnd.jupyter.widget-view+json": {
       "model_id": "",
       "version_major": 2,
       "version_minor": 0
      },
      "text/plain": [
       "Button(description='Visualise Prices', style=ButtonStyle())"
      ]
     },
     "metadata": {},
     "output_type": "display_data"
    },
    {
     "data": {
      "application/vnd.jupyter.widget-view+json": {
       "model_id": "",
       "version_major": 2,
       "version_minor": 0
      },
      "text/plain": [
       "Button(description='Price vs Brand', style=ButtonStyle())"
      ]
     },
     "metadata": {},
     "output_type": "display_data"
    },
    {
     "data": {
      "application/vnd.jupyter.widget-view+json": {
       "model_id": "",
       "version_major": 2,
       "version_minor": 0
      },
      "text/plain": [
       "Button(description='Generate Summary', style=ButtonStyle())"
      ]
     },
     "metadata": {},
     "output_type": "display_data"
    }
   ],
   "source": [
    "import json\n",
    "import ipywidgets as widgets\n",
    "from IPython.display import display\n",
    "from IPython.display import clear_output\n",
    "import matplotlib.pyplot as plt\n",
    "from collections import Counter\n",
    "\n",
    "\n",
    "# Data management functions\n",
    "def load_data():\n",
    "    try:\n",
    "        with open('perfumes.json', 'r') as file:\n",
    "            return json.load(file)\n",
    "    except FileNotFoundError:\n",
    "        return []\n",
    "\n",
    "def save_data(data):\n",
    "    with open('perfumes.json', 'w') as file:\n",
    "        json.dump(data, file)\n",
    "\n",
    "SCENT_OPTIONS = [\n",
    "    'Floral', 'Fruity', 'Citrus', 'Woody', 'Oriental', 'Fresh',\n",
    "    'Spicy', 'Green', 'Aquatic', 'Gourmand', 'Chypre', 'Leather',\n",
    "    'Musk', 'Powdery', 'Vanilla', 'Amber', 'Other'\n",
    "]\n",
    "\n",
    "# Perfume class\n",
    "class Perfume:\n",
    "    def __init__(self, name, brand, scent, price):\n",
    "        self.name = name\n",
    "        self.brand = brand\n",
    "        self.scent = scent\n",
    "        self.price = price\n",
    "\n",
    "    def __repr__(self):\n",
    "        return f\"Perfume(name={self.name}, brand={self.brand}, scent={self.scent}, price={self.price})\"\n",
    "\n",
    "# Collection Manager class\n",
    "class CollectionManager:\n",
    "    def __init__(self):\n",
    "        self.collection = load_data()\n",
    "\n",
    "    def add_perfume(self, perfume):\n",
    "        self.collection.append(perfume.__dict__)\n",
    "        save_data(self.collection)\n",
    "\n",
    "    def edit_perfume(self, index, name=None, brand=None, scent=None, price=None):\n",
    "        if 0 <= index < len(self.collection):\n",
    "            if name:\n",
    "                self.collection[index]['name'] = name\n",
    "            if brand:\n",
    "                self.collection[index]['brand'] = brand\n",
    "            if scent:\n",
    "                self.collection[index]['scent'] = scent\n",
    "            if price:\n",
    "                self.collection[index]['price'] = price\n",
    "            save_data(self.collection)\n",
    "\n",
    "    def delete_perfume(self, index):\n",
    "        if 0 <= index < len(self.collection):\n",
    "            del self.collection[index]\n",
    "            save_data(self.collection)\n",
    "\n",
    "    def view_perfumes(self):\n",
    "        return self.collection\n",
    "\n",
    "# Create global CollectionManager instance\n",
    "manager = CollectionManager()\n",
    "\n",
    "# Functions to handle actions\n",
    "def display_perfumes():\n",
    "    perfumes = manager.view_perfumes()\n",
    "    if perfumes:\n",
    "        for idx, perfume in enumerate(perfumes):\n",
    "            print(f\"{idx + 1}. {perfume['name']} - {perfume['brand']}, {perfume['scent']}, £{perfume['price']}\")\n",
    "    else:\n",
    "        print(\"No perfumes in collection.\")\n",
    "\n",
    "def get_scent():\n",
    "    return other_scent_widget.value if scent_widget.value == 'Other' else scent_widget.value\n",
    "\n",
    "def add_perfume(_):\n",
    "    name = name_widget.value\n",
    "    brand = brand_widget.value\n",
    "    scent = get_scent()\n",
    "    price = float(price_widget.value)\n",
    "    perfume = Perfume(name, brand, scent, price)\n",
    "    manager.add_perfume(perfume)\n",
    "    print(\"Perfume added successfully!\")\n",
    "    display_perfumes()\n",
    "\n",
    "def edit_perfume(_):\n",
    "    perfumes = manager.view_perfumes()\n",
    "    if not perfumes:\n",
    "        print(\"No perfumes to edit.\")\n",
    "        return\n",
    "\n",
    "    index = int(edit_index_widget.value) - 1\n",
    "    name = name_widget.value or None\n",
    "    brand = brand_widget.value or None\n",
    "    scent = get_scent() or None\n",
    "    price = price_widget.value or None\n",
    "    manager.edit_perfume(index, name, brand, scent, price)\n",
    "    print(\"Perfume updated successfully!\")\n",
    "    display_perfumes()\n",
    "\n",
    "def delete_perfume(_):\n",
    "    perfumes = manager.view_perfumes()\n",
    "    if not perfumes:\n",
    "        print(\"No perfumes to delete.\")\n",
    "        return\n",
    "\n",
    "    index = int(delete_index_widget.value) - 1\n",
    "    manager.delete_perfume(index)\n",
    "    print(\"Perfume deleted successfully!\")\n",
    "    display_perfumes()\n",
    "\n",
    "def view_perfumes(_):\n",
    "    display_perfumes()\n",
    "\n",
    "def exit_interface(_):\n",
    "    clear_output()\n",
    "    print(\"Thank you for using the Perfume Collection Manager. The interface has been closed.\")\n",
    "    # This will remove all the widgets from display\n",
    "    for widget in [name_widget, brand_widget, scent_widget, price_widget, \n",
    "                   edit_index_widget, delete_index_widget, add_button, \n",
    "                   edit_button, delete_button, view_button, exit_button, visualise_brands_button, visualise_scents_button, \n",
    "        visualise_prices_button, visualise_price_vs_brand_button,\n",
    "        generate_summary_button]:\n",
    "        widget.close()\n",
    "\n",
    "# Data visualisation functions\n",
    "def visualise_brands():\n",
    "    perfumes = manager.view_perfumes()\n",
    "    brands = [perfume['brand'] for perfume in perfumes]\n",
    "    brand_counts = Counter(brands)\n",
    "    \n",
    "    plt.figure(figsize=(10, 6))\n",
    "    plt.bar(brand_counts.keys(), brand_counts.values())\n",
    "    plt.title('Number of Perfumes by Brand')\n",
    "    plt.xlabel('Brand')\n",
    "    plt.ylabel('Number of Perfumes')\n",
    "    plt.xticks(rotation=45)\n",
    "    plt.tight_layout()\n",
    "    plt.show()\n",
    "\n",
    "def visualise_scents():\n",
    "    perfumes = manager.view_perfumes()\n",
    "    scents = [perfume['scent'] for perfume in perfumes]\n",
    "    scent_counts = Counter(scents)\n",
    "    \n",
    "    plt.figure(figsize=(8, 8))\n",
    "    plt.pie(scent_counts.values(), labels=scent_counts.keys(), autopct='%1.1f%%')\n",
    "    plt.title('Distribution of Perfume Scents')\n",
    "    plt.axis('equal')\n",
    "    plt.show()\n",
    "\n",
    "def visualise_price_range():\n",
    "    perfumes = manager.view_perfumes()\n",
    "    prices = [perfume['price'] for perfume in perfumes]\n",
    "    \n",
    "    plt.figure(figsize=(10, 6))\n",
    "    plt.hist(prices, bins=10, edgecolor='black')\n",
    "    plt.title('Distribution of Perfume Prices')\n",
    "    plt.xlabel('Price (£)')\n",
    "    plt.ylabel('Number of Perfumes')\n",
    "    plt.show()\n",
    "\n",
    "def visualise_price_vs_brand():\n",
    "    perfumes = manager.view_perfumes()\n",
    "    brands = [perfume['brand'] for perfume in perfumes]\n",
    "    prices = [perfume['price'] for perfume in perfumes]\n",
    "    \n",
    "    plt.figure(figsize=(12, 6))\n",
    "    plt.scatter(brands, prices)\n",
    "    plt.title('Perfume Prices by Brand')\n",
    "    plt.xlabel('Brand')\n",
    "    plt.ylabel('Price (£)')\n",
    "    plt.xticks(rotation=45)\n",
    "    plt.tight_layout()\n",
    "    plt.show()\n",
    "\n",
    "# Function to generate a summary report\n",
    "def generate_summary():\n",
    "    perfumes = manager.view_perfumes()\n",
    "    total_perfumes = len(perfumes)\n",
    "    total_value = sum(perfume['price'] for perfume in perfumes)\n",
    "    avg_price = total_value / total_perfumes if total_perfumes > 0 else 0\n",
    "    most_common_brand = Counter(perfume['brand'] for perfume in perfumes).most_common(1)[0][0] if perfumes else \"N/A\"\n",
    "    \n",
    "    print(f\"Collection Summary:\")\n",
    "    print(f\"Total number of perfumes: {total_perfumes}\")\n",
    "    print(f\"Total value of collection: £{total_value:.2f}\")\n",
    "    print(f\"Average price per perfume: £{avg_price:.2f}\")\n",
    "    print(f\"Most common brand: {most_common_brand}\")\n",
    "\n",
    "\n",
    "# Widgets for the user interface\n",
    "name_widget = widgets.Text(description='Name:')\n",
    "brand_widget = widgets.Text(description='Brand:')\n",
    "scent_widget = widgets.Dropdown(\n",
    "    options=SCENT_OPTIONS,\n",
    "    description='Scent:',\n",
    "    disabled=False,\n",
    ")\n",
    "other_scent_widget = widgets.Text(description='Other Scent:', disabled=True)\n",
    "\n",
    "def on_scent_change(change):\n",
    "    if change['new'] == 'Other':\n",
    "        other_scent_widget.disabled = False\n",
    "    else:\n",
    "        other_scent_widget.disabled = True\n",
    "        other_scent_widget.value = ''\n",
    "\n",
    "scent_widget.observe(on_scent_change, names='value')\n",
    "price_widget = widgets.FloatText(description='Price:')\n",
    "edit_index_widget = widgets.IntText(description='Edit Index:')\n",
    "delete_index_widget = widgets.IntText(description='Delete Index:')\n",
    "add_button = widgets.Button(description=\"Add Perfume\")\n",
    "edit_button = widgets.Button(description=\"Edit Perfume\")\n",
    "delete_button = widgets.Button(description=\"Delete Perfume\")\n",
    "view_button = widgets.Button(description=\"View Perfumes\")\n",
    "exit_button = widgets.Button(description=\"Exit\")\n",
    "\n",
    "\n",
    "# Attach buttons to functions\n",
    "add_button.on_click(add_perfume)\n",
    "edit_button.on_click(edit_perfume)\n",
    "delete_button.on_click(delete_perfume)\n",
    "view_button.on_click(view_perfumes)\n",
    "exit_button.on_click(exit_interface)\n",
    "# Update the main interface to include visualisation options\n",
    "visualise_brands_button = widgets.Button(description=\"Visualise Brands\")\n",
    "visualise_scents_button = widgets.Button(description=\"Visualise Scents\")\n",
    "visualise_prices_button = widgets.Button(description=\"Visualise Prices\")\n",
    "visualise_price_vs_brand_button = widgets.Button(description=\"Price vs Brand\")\n",
    "generate_summary_button = widgets.Button(description=\"Generate Summary\")\n",
    "\n",
    "visualise_brands_button.on_click(lambda _: visualise_brands())\n",
    "visualise_scents_button.on_click(lambda _: visualise_scents())\n",
    "visualise_prices_button.on_click(lambda _: visualise_price_range())\n",
    "visualise_price_vs_brand_button.on_click(lambda _: visualise_price_vs_brand())\n",
    "generate_summary_button.on_click(lambda _: generate_summary())\n",
    "\n",
    "# Display the interface\n",
    "display(name_widget, brand_widget, scent_widget, other_scent_widget, price_widget, \n",
    "        add_button, edit_button, delete_button, view_button, \n",
    "        edit_index_widget, delete_index_widget, exit_button, visualise_brands_button, visualise_scents_button, \n",
    "        visualise_prices_button, visualise_price_vs_brand_button,\n",
    "        generate_summary_button)\n"
   ]
  },
  {
   "cell_type": "code",
   "execution_count": null,
   "id": "b0331139-6e91-41b6-a709-52920243dd0d",
   "metadata": {},
   "outputs": [],
   "source": []
  }
 ],
 "metadata": {
  "kernelspec": {
   "display_name": "Python 3 (ipykernel)",
   "language": "python",
   "name": "python3"
  },
  "language_info": {
   "codemirror_mode": {
    "name": "ipython",
    "version": 3
   },
   "file_extension": ".py",
   "mimetype": "text/x-python",
   "name": "python",
   "nbconvert_exporter": "python",
   "pygments_lexer": "ipython3",
   "version": "3.11.7"
  }
 },
 "nbformat": 4,
 "nbformat_minor": 5
}
